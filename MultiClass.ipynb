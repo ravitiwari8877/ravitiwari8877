{
  "nbformat": 4,
  "nbformat_minor": 0,
  "metadata": {
    "colab": {
      "provenance": [],
      "gpuType": "T4",
      "authorship_tag": "ABX9TyPX2WpE/hzBBTuNSw7p9JQ2",
      "include_colab_link": true
    },
    "kernelspec": {
      "name": "python3",
      "display_name": "Python 3"
    },
    "language_info": {
      "name": "python"
    },
    "accelerator": "GPU",
    "gpuClass": "standard"
  },
  "cells": [
    {
      "cell_type": "markdown",
      "metadata": {
        "id": "view-in-github",
        "colab_type": "text"
      },
      "source": [
        "<a href=\"https://colab.research.google.com/github/ravitiwari8877/ravitiwari8877/blob/main/MultiClass.ipynb\" target=\"_parent\"><img src=\"https://colab.research.google.com/assets/colab-badge.svg\" alt=\"Open In Colab\"/></a>"
      ]
    },
    {
      "cell_type": "code",
      "execution_count": null,
      "metadata": {
        "id": "R4nUMaGsPOaU"
      },
      "outputs": [],
      "source": [
        "import pandas as pd\n",
        "import numpy as np\n",
        "import seaborn as sb\n",
        "import matplotlib.pyplot as plt\n",
        "import tensorflow as tf\n",
        "import open3d as o3d"
      ]
    },
    {
      "cell_type": "code",
      "source": [
        "!pip install Open3D"
      ],
      "metadata": {
        "colab": {
          "base_uri": "https://localhost:8080/"
        },
        "id": "nYPQlFr-QGqD",
        "outputId": "11a5001e-4ef5-4ddd-8558-046d3bff2853"
      },
      "execution_count": null,
      "outputs": [
        {
          "output_type": "stream",
          "name": "stdout",
          "text": [
            "Looking in indexes: https://pypi.org/simple, https://us-python.pkg.dev/colab-wheels/public/simple/\n",
            "Requirement already satisfied: Open3D in /usr/local/lib/python3.9/dist-packages (0.17.0)\n",
            "Requirement already satisfied: dash>=2.6.0 in /usr/local/lib/python3.9/dist-packages (from Open3D) (2.9.2)\n",
            "Requirement already satisfied: configargparse in /usr/local/lib/python3.9/dist-packages (from Open3D) (1.5.3)\n",
            "Requirement already satisfied: matplotlib>=3 in /usr/local/lib/python3.9/dist-packages (from Open3D) (3.7.1)\n",
            "Requirement already satisfied: numpy>1.15 in /usr/local/lib/python3.9/dist-packages (from Open3D) (1.22.4)\n",
            "Requirement already satisfied: pyquaternion in /usr/local/lib/python3.9/dist-packages (from Open3D) (0.9.9)\n",
            "Requirement already satisfied: addict in /usr/local/lib/python3.9/dist-packages (from Open3D) (2.4.0)\n",
            "Requirement already satisfied: pandas>=1.0 in /usr/local/lib/python3.9/dist-packages (from Open3D) (1.4.4)\n",
            "Requirement already satisfied: nbformat==5.7.0 in /usr/local/lib/python3.9/dist-packages (from Open3D) (5.7.0)\n",
            "Requirement already satisfied: pillow>=9.3.0 in /usr/local/lib/python3.9/dist-packages (from Open3D) (9.5.0)\n",
            "Requirement already satisfied: tqdm in /usr/local/lib/python3.9/dist-packages (from Open3D) (4.65.0)\n",
            "Requirement already satisfied: ipywidgets>=8.0.4 in /usr/local/lib/python3.9/dist-packages (from Open3D) (8.0.6)\n",
            "Requirement already satisfied: pyyaml>=5.4.1 in /usr/local/lib/python3.9/dist-packages (from Open3D) (6.0)\n",
            "Requirement already satisfied: werkzeug>=2.2.3 in /usr/local/lib/python3.9/dist-packages (from Open3D) (2.2.3)\n",
            "Requirement already satisfied: scikit-learn>=0.21 in /usr/local/lib/python3.9/dist-packages (from Open3D) (1.2.2)\n",
            "Requirement already satisfied: jupyter-core in /usr/local/lib/python3.9/dist-packages (from nbformat==5.7.0->Open3D) (5.3.0)\n",
            "Requirement already satisfied: traitlets>=5.1 in /usr/local/lib/python3.9/dist-packages (from nbformat==5.7.0->Open3D) (5.7.1)\n",
            "Requirement already satisfied: jsonschema>=2.6 in /usr/local/lib/python3.9/dist-packages (from nbformat==5.7.0->Open3D) (4.3.3)\n",
            "Requirement already satisfied: fastjsonschema in /usr/local/lib/python3.9/dist-packages (from nbformat==5.7.0->Open3D) (2.16.3)\n",
            "Requirement already satisfied: plotly>=5.0.0 in /usr/local/lib/python3.9/dist-packages (from dash>=2.6.0->Open3D) (5.13.1)\n",
            "Requirement already satisfied: dash-html-components==2.0.0 in /usr/local/lib/python3.9/dist-packages (from dash>=2.6.0->Open3D) (2.0.0)\n",
            "Requirement already satisfied: dash-core-components==2.0.0 in /usr/local/lib/python3.9/dist-packages (from dash>=2.6.0->Open3D) (2.0.0)\n",
            "Requirement already satisfied: Flask>=1.0.4 in /usr/local/lib/python3.9/dist-packages (from dash>=2.6.0->Open3D) (2.2.3)\n",
            "Requirement already satisfied: dash-table==5.0.0 in /usr/local/lib/python3.9/dist-packages (from dash>=2.6.0->Open3D) (5.0.0)\n",
            "Requirement already satisfied: jupyterlab-widgets~=3.0.7 in /usr/local/lib/python3.9/dist-packages (from ipywidgets>=8.0.4->Open3D) (3.0.7)\n",
            "Requirement already satisfied: widgetsnbextension~=4.0.7 in /usr/local/lib/python3.9/dist-packages (from ipywidgets>=8.0.4->Open3D) (4.0.7)\n",
            "Requirement already satisfied: ipython>=6.1.0 in /usr/local/lib/python3.9/dist-packages (from ipywidgets>=8.0.4->Open3D) (7.34.0)\n",
            "Requirement already satisfied: ipykernel>=4.5.1 in /usr/local/lib/python3.9/dist-packages (from ipywidgets>=8.0.4->Open3D) (5.5.6)\n",
            "Requirement already satisfied: kiwisolver>=1.0.1 in /usr/local/lib/python3.9/dist-packages (from matplotlib>=3->Open3D) (1.4.4)\n",
            "Requirement already satisfied: python-dateutil>=2.7 in /usr/local/lib/python3.9/dist-packages (from matplotlib>=3->Open3D) (2.8.2)\n",
            "Requirement already satisfied: fonttools>=4.22.0 in /usr/local/lib/python3.9/dist-packages (from matplotlib>=3->Open3D) (4.39.3)\n",
            "Requirement already satisfied: pyparsing>=2.3.1 in /usr/local/lib/python3.9/dist-packages (from matplotlib>=3->Open3D) (3.0.9)\n",
            "Requirement already satisfied: packaging>=20.0 in /usr/local/lib/python3.9/dist-packages (from matplotlib>=3->Open3D) (23.0)\n",
            "Requirement already satisfied: cycler>=0.10 in /usr/local/lib/python3.9/dist-packages (from matplotlib>=3->Open3D) (0.11.0)\n",
            "Requirement already satisfied: contourpy>=1.0.1 in /usr/local/lib/python3.9/dist-packages (from matplotlib>=3->Open3D) (1.0.7)\n",
            "Requirement already satisfied: importlib-resources>=3.2.0 in /usr/local/lib/python3.9/dist-packages (from matplotlib>=3->Open3D) (5.12.0)\n",
            "Requirement already satisfied: pytz>=2020.1 in /usr/local/lib/python3.9/dist-packages (from pandas>=1.0->Open3D) (2022.7.1)\n",
            "Requirement already satisfied: scipy>=1.3.2 in /usr/local/lib/python3.9/dist-packages (from scikit-learn>=0.21->Open3D) (1.10.1)\n",
            "Requirement already satisfied: threadpoolctl>=2.0.0 in /usr/local/lib/python3.9/dist-packages (from scikit-learn>=0.21->Open3D) (3.1.0)\n",
            "Requirement already satisfied: joblib>=1.1.1 in /usr/local/lib/python3.9/dist-packages (from scikit-learn>=0.21->Open3D) (1.1.1)\n",
            "Requirement already satisfied: MarkupSafe>=2.1.1 in /usr/local/lib/python3.9/dist-packages (from werkzeug>=2.2.3->Open3D) (2.1.2)\n",
            "Requirement already satisfied: Jinja2>=3.0 in /usr/local/lib/python3.9/dist-packages (from Flask>=1.0.4->dash>=2.6.0->Open3D) (3.1.2)\n",
            "Requirement already satisfied: importlib-metadata>=3.6.0 in /usr/local/lib/python3.9/dist-packages (from Flask>=1.0.4->dash>=2.6.0->Open3D) (6.1.0)\n",
            "Requirement already satisfied: click>=8.0 in /usr/local/lib/python3.9/dist-packages (from Flask>=1.0.4->dash>=2.6.0->Open3D) (8.1.3)\n",
            "Requirement already satisfied: itsdangerous>=2.0 in /usr/local/lib/python3.9/dist-packages (from Flask>=1.0.4->dash>=2.6.0->Open3D) (2.1.2)\n",
            "Requirement already satisfied: zipp>=3.1.0 in /usr/local/lib/python3.9/dist-packages (from importlib-resources>=3.2.0->matplotlib>=3->Open3D) (3.15.0)\n",
            "Requirement already satisfied: tornado>=4.2 in /usr/local/lib/python3.9/dist-packages (from ipykernel>=4.5.1->ipywidgets>=8.0.4->Open3D) (6.2)\n",
            "Requirement already satisfied: jupyter-client in /usr/local/lib/python3.9/dist-packages (from ipykernel>=4.5.1->ipywidgets>=8.0.4->Open3D) (6.1.12)\n",
            "Requirement already satisfied: ipython-genutils in /usr/local/lib/python3.9/dist-packages (from ipykernel>=4.5.1->ipywidgets>=8.0.4->Open3D) (0.2.0)\n",
            "Requirement already satisfied: prompt-toolkit!=3.0.0,!=3.0.1,<3.1.0,>=2.0.0 in /usr/local/lib/python3.9/dist-packages (from ipython>=6.1.0->ipywidgets>=8.0.4->Open3D) (3.0.38)\n",
            "Requirement already satisfied: backcall in /usr/local/lib/python3.9/dist-packages (from ipython>=6.1.0->ipywidgets>=8.0.4->Open3D) (0.2.0)\n",
            "Requirement already satisfied: setuptools>=18.5 in /usr/local/lib/python3.9/dist-packages (from ipython>=6.1.0->ipywidgets>=8.0.4->Open3D) (67.6.1)\n",
            "Requirement already satisfied: pickleshare in /usr/local/lib/python3.9/dist-packages (from ipython>=6.1.0->ipywidgets>=8.0.4->Open3D) (0.7.5)\n",
            "Requirement already satisfied: pexpect>4.3 in /usr/local/lib/python3.9/dist-packages (from ipython>=6.1.0->ipywidgets>=8.0.4->Open3D) (4.8.0)\n",
            "Requirement already satisfied: decorator in /usr/local/lib/python3.9/dist-packages (from ipython>=6.1.0->ipywidgets>=8.0.4->Open3D) (4.4.2)\n",
            "Requirement already satisfied: jedi>=0.16 in /usr/local/lib/python3.9/dist-packages (from ipython>=6.1.0->ipywidgets>=8.0.4->Open3D) (0.18.2)\n",
            "Requirement already satisfied: matplotlib-inline in /usr/local/lib/python3.9/dist-packages (from ipython>=6.1.0->ipywidgets>=8.0.4->Open3D) (0.1.6)\n",
            "Requirement already satisfied: pygments in /usr/local/lib/python3.9/dist-packages (from ipython>=6.1.0->ipywidgets>=8.0.4->Open3D) (2.14.0)\n",
            "Requirement already satisfied: pyrsistent!=0.17.0,!=0.17.1,!=0.17.2,>=0.14.0 in /usr/local/lib/python3.9/dist-packages (from jsonschema>=2.6->nbformat==5.7.0->Open3D) (0.19.3)\n",
            "Requirement already satisfied: attrs>=17.4.0 in /usr/local/lib/python3.9/dist-packages (from jsonschema>=2.6->nbformat==5.7.0->Open3D) (22.2.0)\n",
            "Requirement already satisfied: tenacity>=6.2.0 in /usr/local/lib/python3.9/dist-packages (from plotly>=5.0.0->dash>=2.6.0->Open3D) (8.2.2)\n",
            "Requirement already satisfied: six>=1.5 in /usr/local/lib/python3.9/dist-packages (from python-dateutil>=2.7->matplotlib>=3->Open3D) (1.16.0)\n",
            "Requirement already satisfied: platformdirs>=2.5 in /usr/local/lib/python3.9/dist-packages (from jupyter-core->nbformat==5.7.0->Open3D) (3.2.0)\n",
            "Requirement already satisfied: parso<0.9.0,>=0.8.0 in /usr/local/lib/python3.9/dist-packages (from jedi>=0.16->ipython>=6.1.0->ipywidgets>=8.0.4->Open3D) (0.8.3)\n",
            "Requirement already satisfied: ptyprocess>=0.5 in /usr/local/lib/python3.9/dist-packages (from pexpect>4.3->ipython>=6.1.0->ipywidgets>=8.0.4->Open3D) (0.7.0)\n",
            "Requirement already satisfied: wcwidth in /usr/local/lib/python3.9/dist-packages (from prompt-toolkit!=3.0.0,!=3.0.1,<3.1.0,>=2.0.0->ipython>=6.1.0->ipywidgets>=8.0.4->Open3D) (0.2.6)\n",
            "Requirement already satisfied: pyzmq>=13 in /usr/local/lib/python3.9/dist-packages (from jupyter-client->ipykernel>=4.5.1->ipywidgets>=8.0.4->Open3D) (23.2.1)\n"
          ]
        }
      ]
    },
    {
      "cell_type": "code",
      "source": [
        "from google.colab import drive\n",
        "drive.mount('/content/drive')"
      ],
      "metadata": {
        "colab": {
          "base_uri": "https://localhost:8080/"
        },
        "id": "dyUDgypzPZmW",
        "outputId": "b66b1c71-f0db-4216-f2f0-7e6facaf5f23"
      },
      "execution_count": null,
      "outputs": [
        {
          "output_type": "stream",
          "name": "stdout",
          "text": [
            "Drive already mounted at /content/drive; to attempt to forcibly remount, call drive.mount(\"/content/drive\", force_remount=True).\n"
          ]
        }
      ]
    },
    {
      "cell_type": "code",
      "source": [
        "# Load the CSV files\n",
        "powerline1 = pd.read_csv('/content/drive/MyDrive/Power LIne/Dataset/power1.csv')\n",
        "powerline2 = pd.read_csv('/content/drive/MyDrive/Power LIne/Dataset/power2.csv')\n",
        "powerline3 = pd.read_csv('/content/drive/MyDrive/Power LIne/Dataset/power3.csv')\n",
        "powerline4 = pd.read_csv('/content/drive/MyDrive/Power LIne/Dataset/power4.csv')\n",
        "powerline5 = pd.read_csv('/content/drive/MyDrive/Power LIne/Dataset/power5.csv')\n",
        "\n",
        "veg1 = pd.read_csv('/content/drive/MyDrive/Power LIne/Dataset/vegs.csv')\n",
        "\n",
        "building3 = pd.read_csv('/content/drive/MyDrive/Power LIne/Dataset/buildingss.csv')"
      ],
      "metadata": {
        "id": "UcRwiwiZPbAv"
      },
      "execution_count": null,
      "outputs": []
    },
    {
      "cell_type": "code",
      "source": [
        "def preprocess_point_cloud(points, voxel_size):\n",
        "    \n",
        "    x = points['X']\n",
        "    y = points['Y']\n",
        "    z = points['Z']\n",
        "    point = np.array([x,y, z]).T\n",
        "    \n",
        "    # Convert to Open3D point cloud format\n",
        "    pcd = o3d.geometry.PointCloud()\n",
        "    pcd.points = o3d.utility.Vector3dVector(point)\n",
        "\n",
        "    #print(\":: Downsample with a voxel size %.3f.\" % voxel_size)\n",
        "    pcd_down = pcd.voxel_down_sample(voxel_size)\n",
        "\n",
        "    radius_normal = voxel_size * 2\n",
        "    #print(\":: Estimate normal with search radius %.3f.\" % radius_normal)\n",
        "    pcd_down.estimate_normals(\n",
        "        o3d.geometry.KDTreeSearchParamHybrid(radius=radius_normal, max_nn=30))\n",
        "\n",
        "    radius_feature = voxel_size * 5\n",
        "    #print(\":: Compute FPFH feature with search radius %.3f.\" % radius_feature)\n",
        "    pcd_fpfh = o3d.pipelines.registration.compute_fpfh_feature(\n",
        "        pcd_down,\n",
        "        o3d.geometry.KDTreeSearchParamHybrid(radius=radius_feature, max_nn=100))\n",
        "    return pcd_down, pcd_fpfh"
      ],
      "metadata": {
        "id": "PcM6e-GiPzGY"
      },
      "execution_count": null,
      "outputs": []
    },
    {
      "cell_type": "code",
      "source": [
        "def ready_data(pcd_down,pcd_fpfh,Class):\n",
        "    xyz = np.asarray(pcd_down.points)  # Convert points to numpy array\n",
        "\n",
        "    fpfh=pcd_fpfh.data.T\n",
        "\n",
        "    normals=np.asarray(pcd_down.normals)\n",
        "\n",
        "    # Convert x,y,z and normals to a pandas DataFrame\n",
        "    data = pd.DataFrame({'x': xyz[:, 0], 'y': xyz[:, 1], 'z': xyz[:, 2], 'nx': normals[:,0], 'ny': normals[:,1], 'nz': normals[:,2]})\n",
        "\n",
        "    # Concatenate data with FPFH\n",
        "    features = np.concatenate((data.to_numpy(), fpfh), axis=1)\n",
        "\n",
        "    # Convert array to dataframe\n",
        "    data_df = pd.DataFrame(features, columns=['X', 'Y', 'Z', 'nx','ny','nz','F0','F1','F2','F3','F4','F5','F6','F7','F8','F9','F10','F11','F12','F13','F14','F15','F16','F17','F18','F19','F20','F21','F22','F23','F24','F25','F26','F27','F28','F29','F30','F31','F32'])\n",
        "    \n",
        "    #np.zeros(len(powerline)).astype(int)\n",
        "    #np.ones(len(veg)).astype(int)\n",
        "    #np.full(len(building), 2).astype(int)\n",
        "    \n",
        "    data_df['Class'] = np.full(len(data_df),Class).astype(int)\n",
        "    return data_df"
      ],
      "metadata": {
        "id": "7wi1cFhdP4KX"
      },
      "execution_count": null,
      "outputs": []
    },
    {
      "cell_type": "code",
      "source": [
        "powerline1_down, powerline1_fpfh= preprocess_point_cloud(powerline1, 0.3)\n",
        "powerline2_down, powerline2_fpfh= preprocess_point_cloud(powerline2, 0.3)\n",
        "powerline3_down, powerline3_fpfh= preprocess_point_cloud(powerline3, 0.3)\n",
        "powerline4_down, powerline4_fpfh= preprocess_point_cloud(powerline4, 0.3)\n",
        "powerline5_down, powerline5_fpfh= preprocess_point_cloud(powerline5, 0.3)\n",
        "\n",
        "veg_down, veg_fpfh= preprocess_point_cloud(veg1, 0.4)\n",
        "\n",
        "building_down, building_fpfh= preprocess_point_cloud(building3, 0.4)"
      ],
      "metadata": {
        "id": "d_mZl4ZIP6o6"
      },
      "execution_count": null,
      "outputs": []
    },
    {
      "cell_type": "code",
      "source": [
        "power1 = ready_data(powerline1_down, powerline1_fpfh,0)\n",
        "power2 = ready_data(powerline2_down, powerline2_fpfh,0)\n",
        "power3 = ready_data(powerline3_down, powerline3_fpfh,0)\n",
        "power4 = ready_data(powerline4_down, powerline4_fpfh,0)\n",
        "power5 = ready_data(powerline5_down, powerline5_fpfh,0)"
      ],
      "metadata": {
        "id": "Zj9BuYMfQEBI"
      },
      "execution_count": null,
      "outputs": []
    },
    {
      "cell_type": "code",
      "source": [
        "veg =ready_data(veg_down, veg_fpfh,1)"
      ],
      "metadata": {
        "id": "tvaItknWQZTp"
      },
      "execution_count": null,
      "outputs": []
    },
    {
      "cell_type": "code",
      "source": [
        "building =ready_data(building_down, building_fpfh,2)"
      ],
      "metadata": {
        "id": "Y8tRJIQRQdT3"
      },
      "execution_count": null,
      "outputs": []
    },
    {
      "cell_type": "code",
      "source": [
        "data_train  = pd.concat([power1,power2,power3,power4,power5,veg,building])"
      ],
      "metadata": {
        "id": "nK8VOD3JQfQF"
      },
      "execution_count": null,
      "outputs": []
    },
    {
      "cell_type": "code",
      "source": [
        "data_train.head()"
      ],
      "metadata": {
        "colab": {
          "base_uri": "https://localhost:8080/",
          "height": 300
        },
        "id": "QLCXuCtJQkCV",
        "outputId": "665814bf-305e-487c-e814-03cb6a655219"
      },
      "execution_count": null,
      "outputs": [
        {
          "output_type": "execute_result",
          "data": {
            "text/plain": [
              "         X      Y      Z        nx        ny        nz         F0         F1  \\\n",
              "0  361.660  30.52  15.33  0.892757 -0.421210 -0.159897   9.315774   8.991230   \n",
              "1  361.740  30.56  13.28  0.091763  0.680289 -0.727177  13.557106  19.405250   \n",
              "2  361.540  31.55  16.01 -0.097727  0.248340 -0.963731  22.394097   4.318091   \n",
              "3  361.800  30.52  16.17 -0.705174 -0.029134 -0.708436   8.058281   5.677768   \n",
              "4  361.875  30.43  11.37 -0.476537  0.429653 -0.767015  27.329732  21.893852   \n",
              "\n",
              "          F2         F3  ...        F24        F25        F26        F27  \\\n",
              "0  21.539678  26.058858  ...  14.822488  31.233222  12.078695  11.283015   \n",
              "1   7.670107   4.629162  ...  20.112080   5.604773  12.398917   5.313398   \n",
              "2   5.360446   3.581972  ...  28.665014  45.592182  54.300361  16.546607   \n",
              "3   8.846587  13.545920  ...  27.940957  44.866788  10.803551   8.366084   \n",
              "4  15.031936   3.101545  ...  23.582288  13.570710  27.833187   2.526582   \n",
              "\n",
              "         F28        F29        F30        F31        F32  Class  \n",
              "0  25.233348  26.984348  30.613933  21.975164  11.623891      0  \n",
              "1  35.629126  25.809485  19.256194   0.971620  31.020389      0  \n",
              "2  13.858530  16.364334   8.126774   5.616224   1.750238      0  \n",
              "3  17.745219  21.318723  23.554385  15.968840   6.906314      0  \n",
              "4  32.103193   4.792670   4.384233  16.220193  26.815179      0  \n",
              "\n",
              "[5 rows x 40 columns]"
            ],
            "text/html": [
              "\n",
              "  <div id=\"df-87e27869-9136-4cd0-9413-a74249febda1\">\n",
              "    <div class=\"colab-df-container\">\n",
              "      <div>\n",
              "<style scoped>\n",
              "    .dataframe tbody tr th:only-of-type {\n",
              "        vertical-align: middle;\n",
              "    }\n",
              "\n",
              "    .dataframe tbody tr th {\n",
              "        vertical-align: top;\n",
              "    }\n",
              "\n",
              "    .dataframe thead th {\n",
              "        text-align: right;\n",
              "    }\n",
              "</style>\n",
              "<table border=\"1\" class=\"dataframe\">\n",
              "  <thead>\n",
              "    <tr style=\"text-align: right;\">\n",
              "      <th></th>\n",
              "      <th>X</th>\n",
              "      <th>Y</th>\n",
              "      <th>Z</th>\n",
              "      <th>nx</th>\n",
              "      <th>ny</th>\n",
              "      <th>nz</th>\n",
              "      <th>F0</th>\n",
              "      <th>F1</th>\n",
              "      <th>F2</th>\n",
              "      <th>F3</th>\n",
              "      <th>...</th>\n",
              "      <th>F24</th>\n",
              "      <th>F25</th>\n",
              "      <th>F26</th>\n",
              "      <th>F27</th>\n",
              "      <th>F28</th>\n",
              "      <th>F29</th>\n",
              "      <th>F30</th>\n",
              "      <th>F31</th>\n",
              "      <th>F32</th>\n",
              "      <th>Class</th>\n",
              "    </tr>\n",
              "  </thead>\n",
              "  <tbody>\n",
              "    <tr>\n",
              "      <th>0</th>\n",
              "      <td>361.660</td>\n",
              "      <td>30.52</td>\n",
              "      <td>15.33</td>\n",
              "      <td>0.892757</td>\n",
              "      <td>-0.421210</td>\n",
              "      <td>-0.159897</td>\n",
              "      <td>9.315774</td>\n",
              "      <td>8.991230</td>\n",
              "      <td>21.539678</td>\n",
              "      <td>26.058858</td>\n",
              "      <td>...</td>\n",
              "      <td>14.822488</td>\n",
              "      <td>31.233222</td>\n",
              "      <td>12.078695</td>\n",
              "      <td>11.283015</td>\n",
              "      <td>25.233348</td>\n",
              "      <td>26.984348</td>\n",
              "      <td>30.613933</td>\n",
              "      <td>21.975164</td>\n",
              "      <td>11.623891</td>\n",
              "      <td>0</td>\n",
              "    </tr>\n",
              "    <tr>\n",
              "      <th>1</th>\n",
              "      <td>361.740</td>\n",
              "      <td>30.56</td>\n",
              "      <td>13.28</td>\n",
              "      <td>0.091763</td>\n",
              "      <td>0.680289</td>\n",
              "      <td>-0.727177</td>\n",
              "      <td>13.557106</td>\n",
              "      <td>19.405250</td>\n",
              "      <td>7.670107</td>\n",
              "      <td>4.629162</td>\n",
              "      <td>...</td>\n",
              "      <td>20.112080</td>\n",
              "      <td>5.604773</td>\n",
              "      <td>12.398917</td>\n",
              "      <td>5.313398</td>\n",
              "      <td>35.629126</td>\n",
              "      <td>25.809485</td>\n",
              "      <td>19.256194</td>\n",
              "      <td>0.971620</td>\n",
              "      <td>31.020389</td>\n",
              "      <td>0</td>\n",
              "    </tr>\n",
              "    <tr>\n",
              "      <th>2</th>\n",
              "      <td>361.540</td>\n",
              "      <td>31.55</td>\n",
              "      <td>16.01</td>\n",
              "      <td>-0.097727</td>\n",
              "      <td>0.248340</td>\n",
              "      <td>-0.963731</td>\n",
              "      <td>22.394097</td>\n",
              "      <td>4.318091</td>\n",
              "      <td>5.360446</td>\n",
              "      <td>3.581972</td>\n",
              "      <td>...</td>\n",
              "      <td>28.665014</td>\n",
              "      <td>45.592182</td>\n",
              "      <td>54.300361</td>\n",
              "      <td>16.546607</td>\n",
              "      <td>13.858530</td>\n",
              "      <td>16.364334</td>\n",
              "      <td>8.126774</td>\n",
              "      <td>5.616224</td>\n",
              "      <td>1.750238</td>\n",
              "      <td>0</td>\n",
              "    </tr>\n",
              "    <tr>\n",
              "      <th>3</th>\n",
              "      <td>361.800</td>\n",
              "      <td>30.52</td>\n",
              "      <td>16.17</td>\n",
              "      <td>-0.705174</td>\n",
              "      <td>-0.029134</td>\n",
              "      <td>-0.708436</td>\n",
              "      <td>8.058281</td>\n",
              "      <td>5.677768</td>\n",
              "      <td>8.846587</td>\n",
              "      <td>13.545920</td>\n",
              "      <td>...</td>\n",
              "      <td>27.940957</td>\n",
              "      <td>44.866788</td>\n",
              "      <td>10.803551</td>\n",
              "      <td>8.366084</td>\n",
              "      <td>17.745219</td>\n",
              "      <td>21.318723</td>\n",
              "      <td>23.554385</td>\n",
              "      <td>15.968840</td>\n",
              "      <td>6.906314</td>\n",
              "      <td>0</td>\n",
              "    </tr>\n",
              "    <tr>\n",
              "      <th>4</th>\n",
              "      <td>361.875</td>\n",
              "      <td>30.43</td>\n",
              "      <td>11.37</td>\n",
              "      <td>-0.476537</td>\n",
              "      <td>0.429653</td>\n",
              "      <td>-0.767015</td>\n",
              "      <td>27.329732</td>\n",
              "      <td>21.893852</td>\n",
              "      <td>15.031936</td>\n",
              "      <td>3.101545</td>\n",
              "      <td>...</td>\n",
              "      <td>23.582288</td>\n",
              "      <td>13.570710</td>\n",
              "      <td>27.833187</td>\n",
              "      <td>2.526582</td>\n",
              "      <td>32.103193</td>\n",
              "      <td>4.792670</td>\n",
              "      <td>4.384233</td>\n",
              "      <td>16.220193</td>\n",
              "      <td>26.815179</td>\n",
              "      <td>0</td>\n",
              "    </tr>\n",
              "  </tbody>\n",
              "</table>\n",
              "<p>5 rows × 40 columns</p>\n",
              "</div>\n",
              "      <button class=\"colab-df-convert\" onclick=\"convertToInteractive('df-87e27869-9136-4cd0-9413-a74249febda1')\"\n",
              "              title=\"Convert this dataframe to an interactive table.\"\n",
              "              style=\"display:none;\">\n",
              "        \n",
              "  <svg xmlns=\"http://www.w3.org/2000/svg\" height=\"24px\"viewBox=\"0 0 24 24\"\n",
              "       width=\"24px\">\n",
              "    <path d=\"M0 0h24v24H0V0z\" fill=\"none\"/>\n",
              "    <path d=\"M18.56 5.44l.94 2.06.94-2.06 2.06-.94-2.06-.94-.94-2.06-.94 2.06-2.06.94zm-11 1L8.5 8.5l.94-2.06 2.06-.94-2.06-.94L8.5 2.5l-.94 2.06-2.06.94zm10 10l.94 2.06.94-2.06 2.06-.94-2.06-.94-.94-2.06-.94 2.06-2.06.94z\"/><path d=\"M17.41 7.96l-1.37-1.37c-.4-.4-.92-.59-1.43-.59-.52 0-1.04.2-1.43.59L10.3 9.45l-7.72 7.72c-.78.78-.78 2.05 0 2.83L4 21.41c.39.39.9.59 1.41.59.51 0 1.02-.2 1.41-.59l7.78-7.78 2.81-2.81c.8-.78.8-2.07 0-2.86zM5.41 20L4 18.59l7.72-7.72 1.47 1.35L5.41 20z\"/>\n",
              "  </svg>\n",
              "      </button>\n",
              "      \n",
              "  <style>\n",
              "    .colab-df-container {\n",
              "      display:flex;\n",
              "      flex-wrap:wrap;\n",
              "      gap: 12px;\n",
              "    }\n",
              "\n",
              "    .colab-df-convert {\n",
              "      background-color: #E8F0FE;\n",
              "      border: none;\n",
              "      border-radius: 50%;\n",
              "      cursor: pointer;\n",
              "      display: none;\n",
              "      fill: #1967D2;\n",
              "      height: 32px;\n",
              "      padding: 0 0 0 0;\n",
              "      width: 32px;\n",
              "    }\n",
              "\n",
              "    .colab-df-convert:hover {\n",
              "      background-color: #E2EBFA;\n",
              "      box-shadow: 0px 1px 2px rgba(60, 64, 67, 0.3), 0px 1px 3px 1px rgba(60, 64, 67, 0.15);\n",
              "      fill: #174EA6;\n",
              "    }\n",
              "\n",
              "    [theme=dark] .colab-df-convert {\n",
              "      background-color: #3B4455;\n",
              "      fill: #D2E3FC;\n",
              "    }\n",
              "\n",
              "    [theme=dark] .colab-df-convert:hover {\n",
              "      background-color: #434B5C;\n",
              "      box-shadow: 0px 1px 3px 1px rgba(0, 0, 0, 0.15);\n",
              "      filter: drop-shadow(0px 1px 2px rgba(0, 0, 0, 0.3));\n",
              "      fill: #FFFFFF;\n",
              "    }\n",
              "  </style>\n",
              "\n",
              "      <script>\n",
              "        const buttonEl =\n",
              "          document.querySelector('#df-87e27869-9136-4cd0-9413-a74249febda1 button.colab-df-convert');\n",
              "        buttonEl.style.display =\n",
              "          google.colab.kernel.accessAllowed ? 'block' : 'none';\n",
              "\n",
              "        async function convertToInteractive(key) {\n",
              "          const element = document.querySelector('#df-87e27869-9136-4cd0-9413-a74249febda1');\n",
              "          const dataTable =\n",
              "            await google.colab.kernel.invokeFunction('convertToInteractive',\n",
              "                                                     [key], {});\n",
              "          if (!dataTable) return;\n",
              "\n",
              "          const docLinkHtml = 'Like what you see? Visit the ' +\n",
              "            '<a target=\"_blank\" href=https://colab.research.google.com/notebooks/data_table.ipynb>data table notebook</a>'\n",
              "            + ' to learn more about interactive tables.';\n",
              "          element.innerHTML = '';\n",
              "          dataTable['output_type'] = 'display_data';\n",
              "          await google.colab.output.renderOutput(dataTable, element);\n",
              "          const docLink = document.createElement('div');\n",
              "          docLink.innerHTML = docLinkHtml;\n",
              "          element.appendChild(docLink);\n",
              "        }\n",
              "      </script>\n",
              "    </div>\n",
              "  </div>\n",
              "  "
            ]
          },
          "metadata": {},
          "execution_count": 60
        }
      ]
    },
    {
      "cell_type": "code",
      "source": [
        "# How many category in target\n",
        "data_train['Class'].value_counts()"
      ],
      "metadata": {
        "colab": {
          "base_uri": "https://localhost:8080/"
        },
        "id": "QyE5WWucQ1p9",
        "outputId": "eff2184b-252f-4dcf-91f6-2678ae63c46e"
      },
      "execution_count": null,
      "outputs": [
        {
          "output_type": "execute_result",
          "data": {
            "text/plain": [
              "1    354534\n",
              "2    296187\n",
              "0    260716\n",
              "Name: Class, dtype: int64"
            ]
          },
          "metadata": {},
          "execution_count": 61
        }
      ]
    },
    {
      "cell_type": "code",
      "source": [
        "X = data_train.drop('Class',axis =1)\n",
        "Y= data_train['Class']"
      ],
      "metadata": {
        "id": "rn_Q1x9_QmMW"
      },
      "execution_count": null,
      "outputs": []
    },
    {
      "cell_type": "code",
      "source": [
        "from sklearn.model_selection import train_test_split\n",
        "\n",
        "X_train,X_test,Y_train,Y_test = train_test_split(X,Y, test_size = 0.2, random_state = 1,stratify=Y)"
      ],
      "metadata": {
        "id": "r7YhTrxQQrBy"
      },
      "execution_count": null,
      "outputs": []
    },
    {
      "cell_type": "code",
      "source": [
        "X_train.shape, X_test.shape,Y_train.shape"
      ],
      "metadata": {
        "colab": {
          "base_uri": "https://localhost:8080/"
        },
        "id": "_qLMmig4QrHd",
        "outputId": "69ba5457-30ab-4bdf-9dd5-e0d1aeda57b1"
      },
      "execution_count": null,
      "outputs": [
        {
          "output_type": "execute_result",
          "data": {
            "text/plain": [
              "((729149, 39), (182288, 39), (729149,))"
            ]
          },
          "metadata": {},
          "execution_count": 64
        }
      ]
    },
    {
      "cell_type": "code",
      "source": [
        "import tensorflow as tf\n",
        "\n",
        "model = tf.keras.Sequential([\n",
        "    # Hidden Layer   (units = no of input(39) + no of output(3))\n",
        "    tf.keras.layers.Dense(units= 41, activation = 'relu',input_dim = 39),\n",
        "    # output layers\n",
        "    tf.keras.layers.Dense(units =3, activation = 'softmax')\n",
        "])"
      ],
      "metadata": {
        "id": "IMWzWxmlSv88"
      },
      "execution_count": null,
      "outputs": []
    },
    {
      "cell_type": "code",
      "source": [
        "model.summary()"
      ],
      "metadata": {
        "colab": {
          "base_uri": "https://localhost:8080/"
        },
        "id": "ihq_WaVoTL6F",
        "outputId": "ae374664-84af-46d4-a38c-68b727aa2490"
      },
      "execution_count": null,
      "outputs": [
        {
          "output_type": "stream",
          "name": "stdout",
          "text": [
            "Model: \"sequential_1\"\n",
            "_________________________________________________________________\n",
            " Layer (type)                Output Shape              Param #   \n",
            "=================================================================\n",
            " dense_2 (Dense)             (None, 41)                1640      \n",
            "                                                                 \n",
            " dense_3 (Dense)             (None, 3)                 126       \n",
            "                                                                 \n",
            "=================================================================\n",
            "Total params: 1,766\n",
            "Trainable params: 1,766\n",
            "Non-trainable params: 0\n",
            "_________________________________________________________________\n"
          ]
        }
      ]
    },
    {
      "cell_type": "code",
      "source": [
        "model.compile(optimizer = 'adam', loss = 'sparse_categorical_crossentropy', metrics = ['accuracy'])"
      ],
      "metadata": {
        "id": "mSz60ICNTQMu"
      },
      "execution_count": null,
      "outputs": []
    },
    {
      "cell_type": "code",
      "source": [
        "# create a procedure for EARLY STOPING\n",
        "# calling inbuilt class:   EarlyStopping\n",
        "\n",
        "from tensorflow.keras.callbacks import EarlyStopping\n",
        "\n",
        "#create object  \n",
        "cb = EarlyStopping(monitor = 'val_loss',   # Mention parameter to monitor .. it may me loss or score\n",
        "                   min_delta = 0.0001,     # diff btw new and previous loss: bydefault we take 0.0001\n",
        "                   patience = 20,          \n",
        "                   verbose =1,\n",
        "                   mode = 'auto',\n",
        "                   baseline = None,\n",
        "                   restore_best_weights =False)"
      ],
      "metadata": {
        "id": "hz09JlxSTYJo"
      },
      "execution_count": null,
      "outputs": []
    },
    {
      "cell_type": "code",
      "source": [
        "# train the model: use inbuilt method fit() of Sequential class\n",
        "\n",
        "train_model = model.fit(X_train, Y_train,epochs =5000,validation_data= (X_test, Y_test), callbacks = cb, batch_size = 64)\n",
        "# validation_split = 0.2 :: It is used when ever you do not have output data in test file. In this case\n",
        "# we are using 20% of train data to test the model"
      ],
      "metadata": {
        "colab": {
          "base_uri": "https://localhost:8080/"
        },
        "id": "031TopoJTZtF",
        "outputId": "5cc3ac78-8a24-4f87-d8e2-a691c382d102"
      },
      "execution_count": null,
      "outputs": [
        {
          "output_type": "stream",
          "name": "stdout",
          "text": [
            "Epoch 1/5000\n",
            "11393/11393 [==============================] - 44s 4ms/step - loss: 0.8395 - accuracy: 0.8026 - val_loss: 0.5161 - val_accuracy: 0.8172\n",
            "Epoch 2/5000\n",
            "11393/11393 [==============================] - 41s 4ms/step - loss: 0.4320 - accuracy: 0.8433 - val_loss: 0.3910 - val_accuracy: 0.8577\n",
            "Epoch 3/5000\n",
            "11393/11393 [==============================] - 41s 4ms/step - loss: 0.3823 - accuracy: 0.8603 - val_loss: 0.3782 - val_accuracy: 0.8576\n",
            "Epoch 4/5000\n",
            "11393/11393 [==============================] - 41s 4ms/step - loss: 0.3556 - accuracy: 0.8685 - val_loss: 0.3374 - val_accuracy: 0.8764\n",
            "Epoch 5/5000\n",
            "11393/11393 [==============================] - 41s 4ms/step - loss: 0.3331 - accuracy: 0.8751 - val_loss: 0.3113 - val_accuracy: 0.8833\n",
            "Epoch 6/5000\n",
            "11393/11393 [==============================] - 41s 4ms/step - loss: 0.3152 - accuracy: 0.8821 - val_loss: 0.3091 - val_accuracy: 0.8861\n",
            "Epoch 7/5000\n",
            "11393/11393 [==============================] - 41s 4ms/step - loss: 0.3019 - accuracy: 0.8872 - val_loss: 0.3112 - val_accuracy: 0.8848\n",
            "Epoch 8/5000\n",
            "11393/11393 [==============================] - 45s 4ms/step - loss: 0.2945 - accuracy: 0.8902 - val_loss: 0.2882 - val_accuracy: 0.8932\n",
            "Epoch 9/5000\n",
            "11393/11393 [==============================] - 41s 4ms/step - loss: 0.2911 - accuracy: 0.8915 - val_loss: 0.2890 - val_accuracy: 0.8929\n",
            "Epoch 10/5000\n",
            "11393/11393 [==============================] - 40s 4ms/step - loss: 0.2889 - accuracy: 0.8928 - val_loss: 0.2895 - val_accuracy: 0.8909\n",
            "Epoch 11/5000\n",
            "11393/11393 [==============================] - 41s 4ms/step - loss: 0.2864 - accuracy: 0.8937 - val_loss: 0.3041 - val_accuracy: 0.8921\n",
            "Epoch 12/5000\n",
            "11393/11393 [==============================] - 46s 4ms/step - loss: 0.2843 - accuracy: 0.8943 - val_loss: 0.2805 - val_accuracy: 0.8932\n",
            "Epoch 13/5000\n",
            "11393/11393 [==============================] - 40s 4ms/step - loss: 0.2830 - accuracy: 0.8949 - val_loss: 0.2897 - val_accuracy: 0.8934\n",
            "Epoch 14/5000\n",
            "11393/11393 [==============================] - 41s 4ms/step - loss: 0.2819 - accuracy: 0.8953 - val_loss: 0.2842 - val_accuracy: 0.8930\n",
            "Epoch 15/5000\n",
            "11393/11393 [==============================] - 41s 4ms/step - loss: 0.2813 - accuracy: 0.8955 - val_loss: 0.2753 - val_accuracy: 0.8960\n",
            "Epoch 16/5000\n",
            "11393/11393 [==============================] - 41s 4ms/step - loss: 0.2810 - accuracy: 0.8957 - val_loss: 0.2936 - val_accuracy: 0.8906\n",
            "Epoch 17/5000\n",
            "11393/11393 [==============================] - 41s 4ms/step - loss: 0.2798 - accuracy: 0.8963 - val_loss: 0.2782 - val_accuracy: 0.8950\n",
            "Epoch 18/5000\n",
            "11393/11393 [==============================] - 45s 4ms/step - loss: 0.2797 - accuracy: 0.8962 - val_loss: 0.2853 - val_accuracy: 0.8979\n",
            "Epoch 19/5000\n",
            "11393/11393 [==============================] - 40s 4ms/step - loss: 0.2794 - accuracy: 0.8967 - val_loss: 0.2764 - val_accuracy: 0.8988\n",
            "Epoch 20/5000\n",
            "11393/11393 [==============================] - 40s 4ms/step - loss: 0.2794 - accuracy: 0.8967 - val_loss: 0.2702 - val_accuracy: 0.9018\n",
            "Epoch 21/5000\n",
            "11393/11393 [==============================] - 45s 4ms/step - loss: 0.2786 - accuracy: 0.8964 - val_loss: 0.2882 - val_accuracy: 0.8903\n",
            "Epoch 22/5000\n",
            "11393/11393 [==============================] - 41s 4ms/step - loss: 0.2784 - accuracy: 0.8969 - val_loss: 0.2791 - val_accuracy: 0.8927\n",
            "Epoch 23/5000\n",
            "11393/11393 [==============================] - 40s 4ms/step - loss: 0.2778 - accuracy: 0.8968 - val_loss: 0.2801 - val_accuracy: 0.8974\n",
            "Epoch 24/5000\n",
            "11393/11393 [==============================] - 40s 4ms/step - loss: 0.2767 - accuracy: 0.8970 - val_loss: 0.2747 - val_accuracy: 0.8985\n",
            "Epoch 25/5000\n",
            "11393/11393 [==============================] - 40s 3ms/step - loss: 0.2766 - accuracy: 0.8974 - val_loss: 0.2657 - val_accuracy: 0.9014\n",
            "Epoch 26/5000\n",
            "11393/11393 [==============================] - 44s 4ms/step - loss: 0.2763 - accuracy: 0.8975 - val_loss: 0.2806 - val_accuracy: 0.8941\n",
            "Epoch 27/5000\n",
            "11393/11393 [==============================] - 40s 4ms/step - loss: 0.2755 - accuracy: 0.8980 - val_loss: 0.2663 - val_accuracy: 0.9025\n",
            "Epoch 28/5000\n",
            "11393/11393 [==============================] - 45s 4ms/step - loss: 0.2756 - accuracy: 0.8978 - val_loss: 0.2678 - val_accuracy: 0.8998\n",
            "Epoch 29/5000\n",
            "11393/11393 [==============================] - 40s 4ms/step - loss: 0.2756 - accuracy: 0.8973 - val_loss: 0.2718 - val_accuracy: 0.8982\n",
            "Epoch 30/5000\n",
            "11393/11393 [==============================] - 40s 3ms/step - loss: 0.2758 - accuracy: 0.8977 - val_loss: 0.2640 - val_accuracy: 0.9022\n",
            "Epoch 31/5000\n",
            "11393/11393 [==============================] - 41s 4ms/step - loss: 0.2750 - accuracy: 0.8977 - val_loss: 0.2714 - val_accuracy: 0.8976\n",
            "Epoch 32/5000\n",
            "11393/11393 [==============================] - 40s 3ms/step - loss: 0.2745 - accuracy: 0.8982 - val_loss: 0.2792 - val_accuracy: 0.8926\n",
            "Epoch 33/5000\n",
            "11393/11393 [==============================] - 40s 3ms/step - loss: 0.2734 - accuracy: 0.8985 - val_loss: 0.2692 - val_accuracy: 0.8996\n",
            "Epoch 34/5000\n",
            "11393/11393 [==============================] - 44s 4ms/step - loss: 0.2737 - accuracy: 0.8983 - val_loss: 0.2830 - val_accuracy: 0.8959\n",
            "Epoch 35/5000\n",
            "11393/11393 [==============================] - 44s 4ms/step - loss: 0.2735 - accuracy: 0.8982 - val_loss: 0.2798 - val_accuracy: 0.8977\n",
            "Epoch 36/5000\n",
            "11393/11393 [==============================] - 40s 4ms/step - loss: 0.2730 - accuracy: 0.8984 - val_loss: 0.2656 - val_accuracy: 0.9004\n",
            "Epoch 37/5000\n",
            "11393/11393 [==============================] - 40s 3ms/step - loss: 0.2732 - accuracy: 0.8986 - val_loss: 0.2933 - val_accuracy: 0.8929\n",
            "Epoch 38/5000\n",
            "11393/11393 [==============================] - 40s 3ms/step - loss: 0.2725 - accuracy: 0.8987 - val_loss: 0.2640 - val_accuracy: 0.9034\n",
            "Epoch 39/5000\n",
            "11393/11393 [==============================] - 44s 4ms/step - loss: 0.2725 - accuracy: 0.8986 - val_loss: 0.2638 - val_accuracy: 0.9019\n",
            "Epoch 40/5000\n",
            "11393/11393 [==============================] - 40s 4ms/step - loss: 0.2721 - accuracy: 0.8989 - val_loss: 0.2645 - val_accuracy: 0.9019\n",
            "Epoch 41/5000\n",
            "11393/11393 [==============================] - 40s 3ms/step - loss: 0.2724 - accuracy: 0.8984 - val_loss: 0.2811 - val_accuracy: 0.8965\n",
            "Epoch 42/5000\n",
            "11393/11393 [==============================] - 39s 3ms/step - loss: 0.2722 - accuracy: 0.8987 - val_loss: 0.2629 - val_accuracy: 0.9036\n",
            "Epoch 43/5000\n",
            "11393/11393 [==============================] - 39s 3ms/step - loss: 0.2717 - accuracy: 0.8993 - val_loss: 0.2680 - val_accuracy: 0.9001\n",
            "Epoch 44/5000\n",
            "11393/11393 [==============================] - 44s 4ms/step - loss: 0.2721 - accuracy: 0.8987 - val_loss: 0.2655 - val_accuracy: 0.9009\n",
            "Epoch 45/5000\n",
            "11393/11393 [==============================] - 44s 4ms/step - loss: 0.2719 - accuracy: 0.8990 - val_loss: 0.2701 - val_accuracy: 0.8988\n",
            "Epoch 46/5000\n",
            "11393/11393 [==============================] - 40s 3ms/step - loss: 0.2714 - accuracy: 0.8990 - val_loss: 0.2642 - val_accuracy: 0.9020\n",
            "Epoch 47/5000\n",
            "11393/11393 [==============================] - 44s 4ms/step - loss: 0.2713 - accuracy: 0.8992 - val_loss: 0.2730 - val_accuracy: 0.8973\n",
            "Epoch 48/5000\n",
            "11393/11393 [==============================] - 40s 4ms/step - loss: 0.2715 - accuracy: 0.8993 - val_loss: 0.2694 - val_accuracy: 0.9005\n",
            "Epoch 49/5000\n",
            "11393/11393 [==============================] - 39s 3ms/step - loss: 0.2711 - accuracy: 0.8994 - val_loss: 0.2745 - val_accuracy: 0.8992\n",
            "Epoch 50/5000\n",
            "11393/11393 [==============================] - 44s 4ms/step - loss: 0.2710 - accuracy: 0.8993 - val_loss: 0.2763 - val_accuracy: 0.9001\n",
            "Epoch 51/5000\n",
            "11393/11393 [==============================] - 39s 3ms/step - loss: 0.2714 - accuracy: 0.8992 - val_loss: 0.2644 - val_accuracy: 0.9021\n",
            "Epoch 52/5000\n",
            "11393/11393 [==============================] - 39s 3ms/step - loss: 0.2711 - accuracy: 0.8992 - val_loss: 0.2690 - val_accuracy: 0.9016\n",
            "Epoch 53/5000\n",
            "11393/11393 [==============================] - 44s 4ms/step - loss: 0.2707 - accuracy: 0.8995 - val_loss: 0.2621 - val_accuracy: 0.9037\n",
            "Epoch 54/5000\n",
            "11393/11393 [==============================] - 40s 3ms/step - loss: 0.2706 - accuracy: 0.8994 - val_loss: 0.2768 - val_accuracy: 0.8962\n",
            "Epoch 55/5000\n",
            "11393/11393 [==============================] - 44s 4ms/step - loss: 0.2700 - accuracy: 0.8997 - val_loss: 0.2690 - val_accuracy: 0.9016\n",
            "Epoch 56/5000\n",
            "11393/11393 [==============================] - 39s 3ms/step - loss: 0.2705 - accuracy: 0.8995 - val_loss: 0.2627 - val_accuracy: 0.9033\n",
            "Epoch 57/5000\n",
            "11393/11393 [==============================] - 39s 3ms/step - loss: 0.2706 - accuracy: 0.8995 - val_loss: 0.2685 - val_accuracy: 0.9014\n",
            "Epoch 58/5000\n",
            "11393/11393 [==============================] - 39s 3ms/step - loss: 0.2703 - accuracy: 0.8994 - val_loss: 0.2795 - val_accuracy: 0.8947\n",
            "Epoch 59/5000\n",
            "11393/11393 [==============================] - 39s 3ms/step - loss: 0.2705 - accuracy: 0.8996 - val_loss: 0.2647 - val_accuracy: 0.9021\n",
            "Epoch 60/5000\n",
            "11393/11393 [==============================] - 38s 3ms/step - loss: 0.2697 - accuracy: 0.8998 - val_loss: 0.2647 - val_accuracy: 0.9035\n",
            "Epoch 61/5000\n",
            "11393/11393 [==============================] - 39s 3ms/step - loss: 0.2709 - accuracy: 0.8994 - val_loss: 0.2800 - val_accuracy: 0.8927\n",
            "Epoch 62/5000\n",
            "11393/11393 [==============================] - 40s 4ms/step - loss: 0.2701 - accuracy: 0.8996 - val_loss: 0.2655 - val_accuracy: 0.9011\n",
            "Epoch 63/5000\n",
            "11393/11393 [==============================] - 39s 3ms/step - loss: 0.2704 - accuracy: 0.8998 - val_loss: 0.2657 - val_accuracy: 0.9017\n",
            "Epoch 64/5000\n",
            "11393/11393 [==============================] - 39s 3ms/step - loss: 0.2697 - accuracy: 0.8999 - val_loss: 0.2602 - val_accuracy: 0.9030\n",
            "Epoch 65/5000\n",
            "11393/11393 [==============================] - 43s 4ms/step - loss: 0.2701 - accuracy: 0.8997 - val_loss: 0.2679 - val_accuracy: 0.9018\n",
            "Epoch 66/5000\n",
            "11393/11393 [==============================] - 44s 4ms/step - loss: 0.2701 - accuracy: 0.8996 - val_loss: 0.2690 - val_accuracy: 0.9009\n",
            "Epoch 67/5000\n",
            "11393/11393 [==============================] - 40s 4ms/step - loss: 0.2698 - accuracy: 0.8998 - val_loss: 0.2658 - val_accuracy: 0.9027\n",
            "Epoch 68/5000\n",
            "11393/11393 [==============================] - 40s 3ms/step - loss: 0.2697 - accuracy: 0.8998 - val_loss: 0.2635 - val_accuracy: 0.9020\n",
            "Epoch 69/5000\n",
            "11393/11393 [==============================] - 40s 4ms/step - loss: 0.2695 - accuracy: 0.8997 - val_loss: 0.2726 - val_accuracy: 0.9007\n",
            "Epoch 70/5000\n",
            "11393/11393 [==============================] - 44s 4ms/step - loss: 0.2694 - accuracy: 0.9004 - val_loss: 0.2655 - val_accuracy: 0.9033\n",
            "Epoch 71/5000\n",
            "11393/11393 [==============================] - 40s 3ms/step - loss: 0.2692 - accuracy: 0.9003 - val_loss: 0.2664 - val_accuracy: 0.8997\n",
            "Epoch 72/5000\n",
            "11393/11393 [==============================] - 40s 3ms/step - loss: 0.2695 - accuracy: 0.8999 - val_loss: 0.2703 - val_accuracy: 0.9031\n",
            "Epoch 73/5000\n",
            "11393/11393 [==============================] - 40s 3ms/step - loss: 0.2689 - accuracy: 0.9004 - val_loss: 0.2736 - val_accuracy: 0.8973\n",
            "Epoch 74/5000\n",
            "11393/11393 [==============================] - 44s 4ms/step - loss: 0.2699 - accuracy: 0.8997 - val_loss: 0.2636 - val_accuracy: 0.9035\n",
            "Epoch 75/5000\n",
            "11393/11393 [==============================] - 45s 4ms/step - loss: 0.2690 - accuracy: 0.9002 - val_loss: 0.2660 - val_accuracy: 0.8999\n",
            "Epoch 76/5000\n",
            "11393/11393 [==============================] - 40s 4ms/step - loss: 0.2689 - accuracy: 0.9001 - val_loss: 0.2636 - val_accuracy: 0.9038\n",
            "Epoch 77/5000\n",
            "11393/11393 [==============================] - 41s 4ms/step - loss: 0.2693 - accuracy: 0.9001 - val_loss: 0.2722 - val_accuracy: 0.9001\n",
            "Epoch 78/5000\n",
            "11393/11393 [==============================] - 45s 4ms/step - loss: 0.2690 - accuracy: 0.9000 - val_loss: 0.2735 - val_accuracy: 0.9015\n",
            "Epoch 79/5000\n",
            "11393/11393 [==============================] - 40s 4ms/step - loss: 0.2691 - accuracy: 0.9002 - val_loss: 0.2609 - val_accuracy: 0.9050\n",
            "Epoch 80/5000\n",
            "11393/11393 [==============================] - 40s 3ms/step - loss: 0.2690 - accuracy: 0.9004 - val_loss: 0.2813 - val_accuracy: 0.8933\n",
            "Epoch 81/5000\n",
            "11393/11393 [==============================] - 39s 3ms/step - loss: 0.2687 - accuracy: 0.9002 - val_loss: 0.2630 - val_accuracy: 0.9025\n",
            "Epoch 82/5000\n",
            "11393/11393 [==============================] - 39s 3ms/step - loss: 0.2687 - accuracy: 0.9002 - val_loss: 0.2791 - val_accuracy: 0.8973\n",
            "Epoch 83/5000\n",
            "11393/11393 [==============================] - 39s 3ms/step - loss: 0.2690 - accuracy: 0.9004 - val_loss: 0.2666 - val_accuracy: 0.9022\n",
            "Epoch 84/5000\n",
            "11393/11393 [==============================] - 44s 4ms/step - loss: 0.2691 - accuracy: 0.9005 - val_loss: 0.2705 - val_accuracy: 0.9017\n",
            "Epoch 84: early stopping\n"
          ]
        }
      ]
    },
    {
      "cell_type": "code",
      "source": [
        "# Here we see that out model is Underfit ....No we will increse the no of Hidden layer\n",
        "print(\"Traning Loss and Accuracy \", model.evaluate(X_train, Y_train))\n",
        "print(\"Testing Loss and Accuracy: \", model.evaluate(X_test, Y_test))"
      ],
      "metadata": {
        "colab": {
          "base_uri": "https://localhost:8080/"
        },
        "id": "g762fC4XTix-",
        "outputId": "ffa2851a-9435-4e1f-9c3d-92dab2bd2bdc"
      },
      "execution_count": null,
      "outputs": [
        {
          "output_type": "stream",
          "name": "stdout",
          "text": [
            "22786/22786 [==============================] - 71s 3ms/step - loss: 0.2674 - accuracy: 0.9027\n",
            "Traning Loss and Accuracy  [0.2674034535884857, 0.9026824235916138]\n",
            "5697/5697 [==============================] - 14s 3ms/step - loss: 0.2705 - accuracy: 0.9017\n",
            "Testing Loss and Accuracy:  [0.27054673433303833, 0.9017049670219421]\n"
          ]
        }
      ]
    },
    {
      "cell_type": "code",
      "source": [
        "# Visulisation\n",
        "plt.plot(train_model.history['loss'],label = 'Traning Loss')\n",
        "plt.plot(train_model.history['val_loss'],label = 'Testing Loss')\n",
        "plt.xlabel('Epochs')\n",
        "plt.ylabel('sparse_categorical_crossentropy')\n",
        "plt.legend()\n",
        "plt.show()"
      ],
      "metadata": {
        "colab": {
          "base_uri": "https://localhost:8080/",
          "height": 449
        },
        "id": "duPMYmyFYMTg",
        "outputId": "c9705b3c-6e1a-417c-8820-b3d26a0b0b4a"
      },
      "execution_count": null,
      "outputs": [
        {
          "output_type": "display_data",
          "data": {
            "text/plain": [
              "<Figure size 640x480 with 1 Axes>"
            ],
            "image/png": "[encoded data removed]"
          },
          "metadata": {}
        }
      ]
    },
    {
      "cell_type": "code",
      "source": [
        "# Visulisation\n",
        "plt.plot(train_model.history['accuracy'],label = 'Traning Loss')\n",
        "plt.plot(train_model.history['val_accuracy'],label = 'Testing Loss')\n",
        "plt.xlabel('Epochs')\n",
        "plt.ylabel('Accuracy')\n",
        "plt.legend()\n",
        "plt.show()"
      ],
      "metadata": {
        "colab": {
          "base_uri": "https://localhost:8080/",
          "height": 449
        },
        "id": "C06CwR78YOhY",
        "outputId": "45f5d9f1-7881-45d1-e744-a70a78c404f3"
      },
      "execution_count": null,
      "outputs": [
        {
          "output_type": "display_data",
          "data": {
            "text/plain": [
              "<Figure size 640x480 with 1 Axes>"
            ],
            "image/png": "[encoded data removed]"
          },
          "metadata": {}
        }
      ]
    },
    {
      "cell_type": "code",
      "source": [
        "import tensorflow as tf\n",
        "from tensorflow.keras import regularizers\n",
        "model1 = tf.keras.Sequential([\n",
        "    # Hidden Layer   (units = no of input(47) + no of output(3))\n",
        "    tf.keras.layers.Dense(units= 41, activation = 'relu',input_dim = 39,\n",
        "                          kernel_regularizer =regularizers.l2(0.01)),\n",
        "    # output layers\n",
        "    tf.keras.layers.Dense(units =3, activation = 'softmax',kernel_regularizer =regularizers.l2(0.01))\n",
        "])"
      ],
      "metadata": {
        "id": "zM2ZQ91pZir5"
      },
      "execution_count": null,
      "outputs": []
    },
    {
      "cell_type": "code",
      "source": [
        "model1.compile(optimizer = 'adam', loss = 'sparse_categorical_crossentropy', metrics = ['accuracy'])"
      ],
      "metadata": {
        "id": "r0ZdRRRCZjdH"
      },
      "execution_count": null,
      "outputs": []
    },
    {
      "cell_type": "code",
      "source": [
        "train_model = model1.fit(X_train, Y_train,epochs =50,validation_data= (X_test, Y_test), callbacks = cb, batch_size = 64)"
      ],
      "metadata": {
        "colab": {
          "base_uri": "https://localhost:8080/"
        },
        "id": "2InTqfl3DAki",
        "outputId": "caf0d527-134a-4c1d-b69d-b082aa0918c9"
      },
      "execution_count": null,
      "outputs": [
        {
          "output_type": "stream",
          "name": "stdout",
          "text": [
            "Epoch 1/50\n",
            "11393/11393 [==============================] - 48s 4ms/step - loss: 0.7830 - accuracy: 0.8190 - val_loss: 0.4802 - val_accuracy: 0.8528\n",
            "Epoch 2/50\n",
            "11393/11393 [==============================] - 49s 4ms/step - loss: 0.4555 - accuracy: 0.8517 - val_loss: 0.4172 - val_accuracy: 0.8591\n",
            "Epoch 3/50\n",
            "11393/11393 [==============================] - 48s 4ms/step - loss: 0.4177 - accuracy: 0.8599 - val_loss: 0.4137 - val_accuracy: 0.8579\n",
            "Epoch 4/50\n",
            "11393/11393 [==============================] - 44s 4ms/step - loss: 0.4001 - accuracy: 0.8647 - val_loss: 0.3888 - val_accuracy: 0.8684\n",
            "Epoch 5/50\n",
            "11393/11393 [==============================] - 45s 4ms/step - loss: 0.3958 - accuracy: 0.8656 - val_loss: 0.3960 - val_accuracy: 0.8664\n",
            "Epoch 6/50\n",
            "11393/11393 [==============================] - 44s 4ms/step - loss: 0.3927 - accuracy: 0.8668 - val_loss: 0.3818 - val_accuracy: 0.8696\n",
            "Epoch 7/50\n",
            "11393/11393 [==============================] - 47s 4ms/step - loss: 0.3916 - accuracy: 0.8669 - val_loss: 0.3915 - val_accuracy: 0.8706\n",
            "Epoch 8/50\n",
            "11393/11393 [==============================] - 43s 4ms/step - loss: 0.3912 - accuracy: 0.8671 - val_loss: 0.3945 - val_accuracy: 0.8646\n",
            "Epoch 9/50\n",
            "11393/11393 [==============================] - 42s 4ms/step - loss: 0.3900 - accuracy: 0.8675 - val_loss: 0.3988 - val_accuracy: 0.8655\n",
            "Epoch 10/50\n",
            "11393/11393 [==============================] - 42s 4ms/step - loss: 0.3902 - accuracy: 0.8675 - val_loss: 0.3978 - val_accuracy: 0.8681\n",
            "Epoch 11/50\n",
            "11393/11393 [==============================] - 43s 4ms/step - loss: 0.3901 - accuracy: 0.8674 - val_loss: 0.3783 - val_accuracy: 0.8728\n",
            "Epoch 12/50\n",
            "11393/11393 [==============================] - 47s 4ms/step - loss: 0.3895 - accuracy: 0.8678 - val_loss: 0.3952 - val_accuracy: 0.8611\n",
            "Epoch 13/50\n",
            "11393/11393 [==============================] - 43s 4ms/step - loss: 0.3883 - accuracy: 0.8682 - val_loss: 0.3778 - val_accuracy: 0.8736\n",
            "Epoch 14/50\n",
            "11393/11393 [==============================] - 42s 4ms/step - loss: 0.3890 - accuracy: 0.8675 - val_loss: 0.3890 - val_accuracy: 0.8671\n",
            "Epoch 15/50\n",
            "11393/11393 [==============================] - 42s 4ms/step - loss: 0.3890 - accuracy: 0.8681 - val_loss: 0.3802 - val_accuracy: 0.8714\n",
            "Epoch 16/50\n",
            "11393/11393 [==============================] - 42s 4ms/step - loss: 0.3889 - accuracy: 0.8677 - val_loss: 0.3967 - val_accuracy: 0.8614\n",
            "Epoch 17/50\n",
            "11393/11393 [==============================] - 42s 4ms/step - loss: 0.3888 - accuracy: 0.8680 - val_loss: 0.3844 - val_accuracy: 0.8677\n",
            "Epoch 18/50\n",
            "11393/11393 [==============================] - 47s 4ms/step - loss: 0.3882 - accuracy: 0.8682 - val_loss: 0.3964 - val_accuracy: 0.8663\n",
            "Epoch 19/50\n",
            "11393/11393 [==============================] - 48s 4ms/step - loss: 0.3893 - accuracy: 0.8674 - val_loss: 0.3796 - val_accuracy: 0.8727\n",
            "Epoch 20/50\n",
            "11393/11393 [==============================] - 43s 4ms/step - loss: 0.3888 - accuracy: 0.8678 - val_loss: 0.3849 - val_accuracy: 0.8708\n",
            "Epoch 21/50\n",
            "11393/11393 [==============================] - 42s 4ms/step - loss: 0.3884 - accuracy: 0.8674 - val_loss: 0.3847 - val_accuracy: 0.8714\n",
            "Epoch 22/50\n",
            "11393/11393 [==============================] - 43s 4ms/step - loss: 0.3892 - accuracy: 0.8675 - val_loss: 0.3781 - val_accuracy: 0.8712\n",
            "Epoch 23/50\n",
            "11393/11393 [==============================] - 46s 4ms/step - loss: 0.3878 - accuracy: 0.8679 - val_loss: 0.3951 - val_accuracy: 0.8646\n",
            "Epoch 24/50\n",
            "11393/11393 [==============================] - 46s 4ms/step - loss: 0.3886 - accuracy: 0.8675 - val_loss: 0.3824 - val_accuracy: 0.8713\n",
            "Epoch 25/50\n",
            "11393/11393 [==============================] - 42s 4ms/step - loss: 0.3879 - accuracy: 0.8680 - val_loss: 0.3793 - val_accuracy: 0.8696\n",
            "Epoch 26/50\n",
            "11393/11393 [==============================] - 41s 4ms/step - loss: 0.3877 - accuracy: 0.8680 - val_loss: 0.4045 - val_accuracy: 0.8624\n",
            "Epoch 27/50\n",
            "11393/11393 [==============================] - 42s 4ms/step - loss: 0.3886 - accuracy: 0.8677 - val_loss: 0.3833 - val_accuracy: 0.8687\n",
            "Epoch 28/50\n",
            "11393/11393 [==============================] - 42s 4ms/step - loss: 0.3886 - accuracy: 0.8673 - val_loss: 0.3792 - val_accuracy: 0.8725\n",
            "Epoch 29/50\n",
            "11393/11393 [==============================] - 47s 4ms/step - loss: 0.3878 - accuracy: 0.8680 - val_loss: 0.4024 - val_accuracy: 0.8637\n",
            "Epoch 30/50\n",
            "11393/11393 [==============================] - 48s 4ms/step - loss: 0.3880 - accuracy: 0.8678 - val_loss: 0.3809 - val_accuracy: 0.8676\n",
            "Epoch 31/50\n",
            "11393/11393 [==============================] - 43s 4ms/step - loss: 0.3883 - accuracy: 0.8676 - val_loss: 0.3842 - val_accuracy: 0.8673\n",
            "Epoch 32/50\n",
            "11393/11393 [==============================] - 42s 4ms/step - loss: 0.3872 - accuracy: 0.8679 - val_loss: 0.3823 - val_accuracy: 0.8667\n",
            "Epoch 33/50\n",
            "11393/11393 [==============================] - 42s 4ms/step - loss: 0.3880 - accuracy: 0.8677 - val_loss: 0.3848 - val_accuracy: 0.8675\n",
            "Epoch 33: early stopping\n"
          ]
        }
      ]
    },
    {
      "cell_type": "code",
      "source": [
        "# Here we see that out model is Underfit ....No we will increse the no of Hidden layer\n",
        "print(\"Traning Loss and Accuracy: \", model1.evaluate(X_train, Y_train))\n",
        "print(\"Testing Loss and Accuracy: \", model1.evaluate(X_test, Y_test))"
      ],
      "metadata": {
        "colab": {
          "base_uri": "https://localhost:8080/"
        },
        "id": "LwSzAcEgDCfb",
        "outputId": "56f2bd7e-bb50-4f87-bfa1-9930b38ba8f5"
      },
      "execution_count": null,
      "outputs": [
        {
          "output_type": "stream",
          "name": "stdout",
          "text": [
            "22786/22786 [==============================] - 70s 3ms/step - loss: 0.3845 - accuracy: 0.8682\n",
            "Traning Loss and Accuracy:  [0.38449960947036743, 0.8681737184524536]\n",
            "5697/5697 [==============================] - 15s 3ms/step - loss: 0.3848 - accuracy: 0.8675\n",
            "Testing Loss and Accuracy:  [0.38481995463371277, 0.8675118684768677]\n"
          ]
        }
      ]
    },
    {
      "cell_type": "code",
      "source": [
        "# Visulisation\n",
        "plt.plot(train_model.history['loss'],label = 'Traning Loss')\n",
        "plt.plot(train_model.history['val_loss'],label = 'Testing Loss')\n",
        "plt.xlabel('Epochs')\n",
        "plt.ylabel('sparse_categorical_crossentropy')\n",
        "plt.legend()\n",
        "plt.show()\n",
        "     "
      ],
      "metadata": {
        "colab": {
          "base_uri": "https://localhost:8080/",
          "height": 452
        },
        "id": "6HhXeLoEZvhA",
        "outputId": "f15dbc24-63ee-4e42-c349-8457b30acad0"
      },
      "execution_count": null,
      "outputs": [
        {
          "output_type": "display_data",
          "data": {
            "text/plain": [
              "<Figure size 640x480 with 1 Axes>"
            ],
            "image/png": "[encoded data removed]"
          },
          "metadata": {}
        }
      ]
    },
    {
      "cell_type": "code",
      "source": [
        "# Visulisation\n",
        "plt.plot(train_model1.history['accuracy'],label = 'Traning Loss')\n",
        "plt.plot(train_model1.history['val_accuracy'],label = 'Testing Loss')\n",
        "plt.xlabel('Epochs')\n",
        "plt.ylabel('Accuracy')\n",
        "plt.legend()\n",
        "plt.show()"
      ],
      "metadata": {
        "colab": {
          "base_uri": "https://localhost:8080/",
          "height": 240
        },
        "id": "q8Hc2x2rZwJ4",
        "outputId": "c837a3be-2cb1-4a5b-cd7f-3576c5986128"
      },
      "execution_count": null,
      "outputs": [
        {
          "output_type": "error",
          "ename": "NameError",
          "evalue": "ignored",
          "traceback": [
            "\u001b[0;31m---------------------------------------------------------------------------\u001b[0m",
            "\u001b[0;31mNameError\u001b[0m                                 Traceback (most recent call last)",
            "\u001b[0;32m<ipython-input-103-60e7f7541bd5>\u001b[0m in \u001b[0;36m<cell line: 2>\u001b[0;34m()\u001b[0m\n\u001b[1;32m      1\u001b[0m \u001b[0;31m# Visulisation\u001b[0m\u001b[0;34m\u001b[0m\u001b[0;34m\u001b[0m\u001b[0m\n\u001b[0;32m----> 2\u001b[0;31m \u001b[0mplt\u001b[0m\u001b[0;34m.\u001b[0m\u001b[0mplot\u001b[0m\u001b[0;34m(\u001b[0m\u001b[0mtrain_model1\u001b[0m\u001b[0;34m.\u001b[0m\u001b[0mhistory\u001b[0m\u001b[0;34m[\u001b[0m\u001b[0;34m'accuracy'\u001b[0m\u001b[0;34m]\u001b[0m\u001b[0;34m,\u001b[0m\u001b[0mlabel\u001b[0m \u001b[0;34m=\u001b[0m \u001b[0;34m'Traning Loss'\u001b[0m\u001b[0;34m)\u001b[0m\u001b[0;34m\u001b[0m\u001b[0;34m\u001b[0m\u001b[0m\n\u001b[0m\u001b[1;32m      3\u001b[0m \u001b[0mplt\u001b[0m\u001b[0;34m.\u001b[0m\u001b[0mplot\u001b[0m\u001b[0;34m(\u001b[0m\u001b[0mtrain_model1\u001b[0m\u001b[0;34m.\u001b[0m\u001b[0mhistory\u001b[0m\u001b[0;34m[\u001b[0m\u001b[0;34m'val_accuracy'\u001b[0m\u001b[0;34m]\u001b[0m\u001b[0;34m,\u001b[0m\u001b[0mlabel\u001b[0m \u001b[0;34m=\u001b[0m \u001b[0;34m'Testing Loss'\u001b[0m\u001b[0;34m)\u001b[0m\u001b[0;34m\u001b[0m\u001b[0;34m\u001b[0m\u001b[0m\n\u001b[1;32m      4\u001b[0m \u001b[0mplt\u001b[0m\u001b[0;34m.\u001b[0m\u001b[0mxlabel\u001b[0m\u001b[0;34m(\u001b[0m\u001b[0;34m'Epochs'\u001b[0m\u001b[0;34m)\u001b[0m\u001b[0;34m\u001b[0m\u001b[0;34m\u001b[0m\u001b[0m\n\u001b[1;32m      5\u001b[0m \u001b[0mplt\u001b[0m\u001b[0;34m.\u001b[0m\u001b[0mylabel\u001b[0m\u001b[0;34m(\u001b[0m\u001b[0;34m'Accuracy'\u001b[0m\u001b[0;34m)\u001b[0m\u001b[0;34m\u001b[0m\u001b[0;34m\u001b[0m\u001b[0m\n",
            "\u001b[0;31mNameError\u001b[0m: name 'train_model1' is not defined"
          ]
        }
      ]
    },
    {
      "cell_type": "code",
      "source": [
        "# To load test file \n",
        "data_test = pd.read_csv('/content/drive/MyDrive/Power LIne/test.csv')"
      ],
      "metadata": {
        "id": "Ufd2TM7gYQbP"
      },
      "execution_count": null,
      "outputs": []
    },
    {
      "cell_type": "code",
      "source": [
        "data_test.head()"
      ],
      "metadata": {
        "colab": {
          "base_uri": "https://localhost:8080/",
          "height": 206
        },
        "id": "R3hTYtxhYeqt",
        "outputId": "35c6f7d3-b546-42be-ac8a-ecdf1443c95d"
      },
      "execution_count": null,
      "outputs": [
        {
          "output_type": "execute_result",
          "data": {
            "text/plain": [
              "        X       Y      Z  Intensity  Class\n",
              "0  260.14  362.65  11.98      18131      8\n",
              "1  259.00  362.93  11.83      13150      8\n",
              "2  261.32  362.33  12.13          0      8\n",
              "3  260.72  362.48  12.03       6684      8\n",
              "4  259.59  362.75   9.89          0      8"
            ],
            "text/html": [
              "\n",
              "  <div id=\"df-3b97a14b-4f15-4c4c-b7ff-0e607557369b\">\n",
              "    <div class=\"colab-df-container\">\n",
              "      <div>\n",
              "<style scoped>\n",
              "    .dataframe tbody tr th:only-of-type {\n",
              "        vertical-align: middle;\n",
              "    }\n",
              "\n",
              "    .dataframe tbody tr th {\n",
              "        vertical-align: top;\n",
              "    }\n",
              "\n",
              "    .dataframe thead th {\n",
              "        text-align: right;\n",
              "    }\n",
              "</style>\n",
              "<table border=\"1\" class=\"dataframe\">\n",
              "  <thead>\n",
              "    <tr style=\"text-align: right;\">\n",
              "      <th></th>\n",
              "      <th>X</th>\n",
              "      <th>Y</th>\n",
              "      <th>Z</th>\n",
              "      <th>Intensity</th>\n",
              "      <th>Class</th>\n",
              "    </tr>\n",
              "  </thead>\n",
              "  <tbody>\n",
              "    <tr>\n",
              "      <th>0</th>\n",
              "      <td>260.14</td>\n",
              "      <td>362.65</td>\n",
              "      <td>11.98</td>\n",
              "      <td>18131</td>\n",
              "      <td>8</td>\n",
              "    </tr>\n",
              "    <tr>\n",
              "      <th>1</th>\n",
              "      <td>259.00</td>\n",
              "      <td>362.93</td>\n",
              "      <td>11.83</td>\n",
              "      <td>13150</td>\n",
              "      <td>8</td>\n",
              "    </tr>\n",
              "    <tr>\n",
              "      <th>2</th>\n",
              "      <td>261.32</td>\n",
              "      <td>362.33</td>\n",
              "      <td>12.13</td>\n",
              "      <td>0</td>\n",
              "      <td>8</td>\n",
              "    </tr>\n",
              "    <tr>\n",
              "      <th>3</th>\n",
              "      <td>260.72</td>\n",
              "      <td>362.48</td>\n",
              "      <td>12.03</td>\n",
              "      <td>6684</td>\n",
              "      <td>8</td>\n",
              "    </tr>\n",
              "    <tr>\n",
              "      <th>4</th>\n",
              "      <td>259.59</td>\n",
              "      <td>362.75</td>\n",
              "      <td>9.89</td>\n",
              "      <td>0</td>\n",
              "      <td>8</td>\n",
              "    </tr>\n",
              "  </tbody>\n",
              "</table>\n",
              "</div>\n",
              "      <button class=\"colab-df-convert\" onclick=\"convertToInteractive('df-3b97a14b-4f15-4c4c-b7ff-0e607557369b')\"\n",
              "              title=\"Convert this dataframe to an interactive table.\"\n",
              "              style=\"display:none;\">\n",
              "        \n",
              "  <svg xmlns=\"http://www.w3.org/2000/svg\" height=\"24px\"viewBox=\"0 0 24 24\"\n",
              "       width=\"24px\">\n",
              "    <path d=\"M0 0h24v24H0V0z\" fill=\"none\"/>\n",
              "    <path d=\"M18.56 5.44l.94 2.06.94-2.06 2.06-.94-2.06-.94-.94-2.06-.94 2.06-2.06.94zm-11 1L8.5 8.5l.94-2.06 2.06-.94-2.06-.94L8.5 2.5l-.94 2.06-2.06.94zm10 10l.94 2.06.94-2.06 2.06-.94-2.06-.94-.94-2.06-.94 2.06-2.06.94z\"/><path d=\"M17.41 7.96l-1.37-1.37c-.4-.4-.92-.59-1.43-.59-.52 0-1.04.2-1.43.59L10.3 9.45l-7.72 7.72c-.78.78-.78 2.05 0 2.83L4 21.41c.39.39.9.59 1.41.59.51 0 1.02-.2 1.41-.59l7.78-7.78 2.81-2.81c.8-.78.8-2.07 0-2.86zM5.41 20L4 18.59l7.72-7.72 1.47 1.35L5.41 20z\"/>\n",
              "  </svg>\n",
              "      </button>\n",
              "      \n",
              "  <style>\n",
              "    .colab-df-container {\n",
              "      display:flex;\n",
              "      flex-wrap:wrap;\n",
              "      gap: 12px;\n",
              "    }\n",
              "\n",
              "    .colab-df-convert {\n",
              "      background-color: #E8F0FE;\n",
              "      border: none;\n",
              "      border-radius: 50%;\n",
              "      cursor: pointer;\n",
              "      display: none;\n",
              "      fill: #1967D2;\n",
              "      height: 32px;\n",
              "      padding: 0 0 0 0;\n",
              "      width: 32px;\n",
              "    }\n",
              "\n",
              "    .colab-df-convert:hover {\n",
              "      background-color: #E2EBFA;\n",
              "      box-shadow: 0px 1px 2px rgba(60, 64, 67, 0.3), 0px 1px 3px 1px rgba(60, 64, 67, 0.15);\n",
              "      fill: #174EA6;\n",
              "    }\n",
              "\n",
              "    [theme=dark] .colab-df-convert {\n",
              "      background-color: #3B4455;\n",
              "      fill: #D2E3FC;\n",
              "    }\n",
              "\n",
              "    [theme=dark] .colab-df-convert:hover {\n",
              "      background-color: #434B5C;\n",
              "      box-shadow: 0px 1px 3px 1px rgba(0, 0, 0, 0.15);\n",
              "      filter: drop-shadow(0px 1px 2px rgba(0, 0, 0, 0.3));\n",
              "      fill: #FFFFFF;\n",
              "    }\n",
              "  </style>\n",
              "\n",
              "      <script>\n",
              "        const buttonEl =\n",
              "          document.querySelector('#df-3b97a14b-4f15-4c4c-b7ff-0e607557369b button.colab-df-convert');\n",
              "        buttonEl.style.display =\n",
              "          google.colab.kernel.accessAllowed ? 'block' : 'none';\n",
              "\n",
              "        async function convertToInteractive(key) {\n",
              "          const element = document.querySelector('#df-3b97a14b-4f15-4c4c-b7ff-0e607557369b');\n",
              "          const dataTable =\n",
              "            await google.colab.kernel.invokeFunction('convertToInteractive',\n",
              "                                                     [key], {});\n",
              "          if (!dataTable) return;\n",
              "\n",
              "          const docLinkHtml = 'Like what you see? Visit the ' +\n",
              "            '<a target=\"_blank\" href=https://colab.research.google.com/notebooks/data_table.ipynb>data table notebook</a>'\n",
              "            + ' to learn more about interactive tables.';\n",
              "          element.innerHTML = '';\n",
              "          dataTable['output_type'] = 'display_data';\n",
              "          await google.colab.output.renderOutput(dataTable, element);\n",
              "          const docLink = document.createElement('div');\n",
              "          docLink.innerHTML = docLinkHtml;\n",
              "          element.appendChild(docLink);\n",
              "        }\n",
              "      </script>\n",
              "    </div>\n",
              "  </div>\n",
              "  "
            ]
          },
          "metadata": {},
          "execution_count": 79
        }
      ]
    },
    {
      "cell_type": "code",
      "source": [
        "grouped = data_test.groupby(\"Class\")"
      ],
      "metadata": {
        "id": "k49VLhHzY5zd"
      },
      "execution_count": null,
      "outputs": []
    },
    {
      "cell_type": "code",
      "source": [
        "powerline_down, powerline1_fpfh= preprocess_point_cloud(grouped.get_group(5), 0.3)\n",
        "powerline7_down, powerline2_fpfh= preprocess_point_cloud(grouped.get_group(7), 0.3)\n",
        "\n",
        "\n",
        "veg_down, veg_fpfh= preprocess_point_cloud(grouped.get_group(2), 0.4)\n",
        "\n",
        "building_down, building_fpfh= preprocess_point_cloud(grouped.get_group(8), 0.4)"
      ],
      "metadata": {
        "id": "KStzcpf5Y8aI"
      },
      "execution_count": null,
      "outputs": []
    },
    {
      "cell_type": "code",
      "source": [
        "power_1 = ready_data(powerline_down, powerline1_fpfh,0)\n",
        "power_2 = ready_data(powerline7_down, powerline2_fpfh,0)\n",
        "veg_ =ready_data(veg_down, veg_fpfh,1)\n",
        "building_ =ready_data(building_down, building_fpfh,2)"
      ],
      "metadata": {
        "id": "Yvnc7LgvY9T8"
      },
      "execution_count": null,
      "outputs": []
    },
    {
      "cell_type": "code",
      "source": [
        "data_test  = pd.concat([power1,power2,veg_,building_])"
      ],
      "metadata": {
        "id": "VAGG4AvJZHds"
      },
      "execution_count": null,
      "outputs": []
    },
    {
      "cell_type": "code",
      "source": [
        "X_test_ =data_test.drop('Class',axis=1)\n",
        "Y_test_ = data_test['Class']\n",
        "\n",
        "# Make a copy\n",
        "X_test2 = X_test_"
      ],
      "metadata": {
        "id": "lIvy--hWYg-Z"
      },
      "execution_count": null,
      "outputs": []
    },
    {
      "cell_type": "code",
      "source": [
        "# prediction\n",
        "from sklearn.metrics import classification_report\n",
        "Y_pred = model.predict(X_test2)\n"
      ],
      "metadata": {
        "colab": {
          "base_uri": "https://localhost:8080/"
        },
        "id": "seYFYTEFYkNp",
        "outputId": "619ddeb8-0594-4be3-cd03-6edac3703569"
      },
      "execution_count": null,
      "outputs": [
        {
          "output_type": "stream",
          "name": "stdout",
          "text": [
            "62347/62347 [==============================] - 103s 2ms/step\n"
          ]
        }
      ]
    },
    {
      "cell_type": "code",
      "source": [
        "Y_pred.round(2)"
      ],
      "metadata": {
        "colab": {
          "base_uri": "https://localhost:8080/"
        },
        "id": "4M6zPBluEjIX",
        "outputId": "34302cb0-4f61-4516-d292-7cd0caf4f303"
      },
      "execution_count": null,
      "outputs": [
        {
          "output_type": "execute_result",
          "data": {
            "text/plain": [
              "array([[0.13, 0.8 , 0.07],\n",
              "       [0.06, 0.9 , 0.03],\n",
              "       [0.2 , 0.72, 0.08],\n",
              "       ...,\n",
              "       [0.13, 0.72, 0.15],\n",
              "       [0.  , 0.53, 0.47],\n",
              "       [0.84, 0.01, 0.15]], dtype=float32)"
            ]
          },
          "metadata": {},
          "execution_count": 105
        }
      ]
    },
    {
      "cell_type": "code",
      "source": [
        "Y_pred = [np.argmax(i) for i in Y_pred]"
      ],
      "metadata": {
        "id": "rrOCiGXwYpOx"
      },
      "execution_count": null,
      "outputs": []
    },
    {
      "cell_type": "code",
      "source": [
        "Y_pred1 = []\n",
        "for i in Y_pred:\n",
        "  if i == 0:\n",
        "    Y_pred1.append('Power')\n",
        "  elif i ==1:\n",
        "    Y_pred1.append('Veg')\n",
        "  else:\n",
        "    Y_pred1.append('Building')"
      ],
      "metadata": {
        "id": "KAJtnMNeYxDC"
      },
      "execution_count": null,
      "outputs": []
    },
    {
      "cell_type": "code",
      "source": [
        "data_test['Class_pred'] = Y_pred1"
      ],
      "metadata": {
        "id": "DauCpZZkY0AW"
      },
      "execution_count": null,
      "outputs": []
    },
    {
      "cell_type": "code",
      "source": [
        "data_test = data_test[['X','Y','Z', 'Class_pred']]"
      ],
      "metadata": {
        "id": "hKFry3qbkTwq"
      },
      "execution_count": null,
      "outputs": []
    },
    {
      "cell_type": "code",
      "source": [
        "data_test.to_csv('result123.csv', index =False)  # to save Data in csv"
      ],
      "metadata": {
        "id": "dyyOg7e2hp2u"
      },
      "execution_count": null,
      "outputs": []
    },
    {
      "cell_type": "code",
      "source": [
        "from sklearn.metrics import classification_report\n",
        "\n",
        "print(classification_report(Y_test_,Y_pred))"
      ],
      "metadata": {
        "colab": {
          "base_uri": "https://localhost:8080/"
        },
        "id": "VveROhobhwNO",
        "outputId": "ad7687f4-6790-478b-ce77-684028d25cf8"
      },
      "execution_count": null,
      "outputs": [
        {
          "output_type": "stream",
          "name": "stdout",
          "text": [
            "              precision    recall  f1-score   support\n",
            "\n",
            "           0       0.57      0.83      0.68    115903\n",
            "           1       0.81      0.96      0.88   1294241\n",
            "           2       0.92      0.43      0.59    584952\n",
            "\n",
            "    accuracy                           0.80   1995096\n",
            "   macro avg       0.76      0.74      0.72   1995096\n",
            "weighted avg       0.82      0.80      0.78   1995096\n",
            "\n"
          ]
        }
      ]
    },
    {
      "cell_type": "code",
      "source": [
        "from sklearn.metrics import confusion_matrix\n",
        "print(confusion_matrix(Y_test_,Y_pred))"
      ],
      "metadata": {
        "colab": {
          "base_uri": "https://localhost:8080/"
        },
        "id": "ro3U0HPwWEoH",
        "outputId": "e3421415-78f4-4cd3-dda7-97c70e11e9f4"
      },
      "execution_count": null,
      "outputs": [
        {
          "output_type": "stream",
          "name": "stdout",
          "text": [
            "[[  96522   13831    5550]\n",
            " [  28810 1247905   17526]\n",
            " [  43509  287086  254357]]\n"
          ]
        }
      ]
    },
    {
      "cell_type": "code",
      "source": [
        "x = data_test.X\n",
        "y = data_test.Y\n",
        "z = data_test.Z\n",
        "import open3d as o3d\n",
        "points = np.asarray([x,y,z]).T\n",
        "\n",
        "pcd = o3d.geometry.PointCloud()\n",
        "pcd.points = o3d.utility.Vector3dVector(points)\n",
        "o3d.visualization.draw_geometries([pcd])"
      ],
      "metadata": {
        "colab": {
          "base_uri": "https://localhost:8080/"
        },
        "id": "sUceJv7pWf9t",
        "outputId": "42beca1a-d1e3-480c-cde0-0a0af3d49137"
      },
      "execution_count": null,
      "outputs": [
        {
          "output_type": "stream",
          "name": "stdout",
          "text": [
            "\u001b[1;33m[Open3D WARNING] GLFW Error: X11: The DISPLAY environment variable is missing\u001b[0;m\n",
            "\u001b[1;33m[Open3D WARNING] Failed to initialize GLFW\u001b[0;m\n",
            "\u001b[1;33m[Open3D WARNING] [DrawGeometries] Failed creating OpenGL window.\u001b[0;m\n"
          ]
        }
      ]
    },
    {
      "cell_type": "code",
      "source": [
        "Y_pred = model1.predict(X_test2)"
      ],
      "metadata": {
        "colab": {
          "base_uri": "https://localhost:8080/"
        },
        "id": "DK937RBZW0cq",
        "outputId": "9f936d82-06a2-433a-80c1-640de1d70125"
      },
      "execution_count": null,
      "outputs": [
        {
          "metadata": {
            "tags": null
          },
          "name": "stdout",
          "output_type": "stream",
          "text": [
            "62347/62347 [==============================] - 101s 2ms/step\n"
          ]
        }
      ]
    },
    {
      "cell_type": "code",
      "source": [
        "/content/result123.csv"
      ],
      "metadata": {
        "id": "-D0Vexi5ewTN"
      },
      "execution_count": null,
      "outputs": []
    },
    {
      "cell_type": "code",
      "source": [
        "model1.save('classification.h5')"
      ],
      "metadata": {
        "id": "IYbT59YYlbhM"
      },
      "execution_count": null,
      "outputs": []
    },
    {
      "cell_type": "code",
      "source": [
        "model1.save_weights('class_weight.h5')"
      ],
      "metadata": {
        "id": "v4X2OpRrlmf4"
      },
      "execution_count": null,
      "outputs": []
    },
    {
      "cell_type": "code",
      "source": [],
      "metadata": {
        "id": "nGok2JUNlvKC"
      },
      "execution_count": null,
      "outputs": []
    }
  ]
}